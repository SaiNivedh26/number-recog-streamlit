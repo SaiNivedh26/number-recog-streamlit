{
 "cells": [
  {
   "cell_type": "code",
   "execution_count": 47,
   "id": "aca595ab",
   "metadata": {},
   "outputs": [],
   "source": [
    "from torchvision import datasets\n",
    "from torchvision import transforms as T\n",
    "import torch\n",
    "import numpy as np"
   ]
  },
  {
   "cell_type": "code",
   "execution_count": 22,
   "id": "87e520e6",
   "metadata": {},
   "outputs": [
    {
     "name": "stdout",
     "output_type": "stream",
     "text": [
      "Requirement already satisfied: torch==2.2.2 in c:\\users\\saini\\anaconda3\\lib\\site-packages (2.2.2)\n",
      "Requirement already satisfied: filelock in c:\\users\\saini\\anaconda3\\lib\\site-packages (from torch==2.2.2) (3.9.0)\n",
      "Requirement already satisfied: typing-extensions>=4.8.0 in c:\\users\\saini\\anaconda3\\lib\\site-packages (from torch==2.2.2) (4.10.0)\n",
      "Requirement already satisfied: sympy in c:\\users\\saini\\anaconda3\\lib\\site-packages (from torch==2.2.2) (1.11.1)\n",
      "Requirement already satisfied: networkx in c:\\users\\saini\\anaconda3\\lib\\site-packages (from torch==2.2.2) (3.1)\n",
      "Requirement already satisfied: jinja2 in c:\\users\\saini\\anaconda3\\lib\\site-packages (from torch==2.2.2) (3.1.2)\n",
      "Requirement already satisfied: fsspec in c:\\users\\saini\\anaconda3\\lib\\site-packages (from torch==2.2.2) (2024.3.1)\n",
      "Requirement already satisfied: MarkupSafe>=2.0 in c:\\users\\saini\\anaconda3\\lib\\site-packages (from jinja2->torch==2.2.2) (2.1.1)\n",
      "Requirement already satisfied: mpmath>=0.19 in c:\\users\\saini\\anaconda3\\lib\\site-packages (from sympy->torch==2.2.2) (1.3.0)\n",
      "Note: you may need to restart the kernel to use updated packages.\n"
     ]
    }
   ],
   "source": [
    "pip install torch==2.2.2"
   ]
  },
  {
   "cell_type": "code",
   "execution_count": 51,
   "id": "41d08805",
   "metadata": {},
   "outputs": [],
   "source": [
    "import numpy as np\n",
    "import pandas as pd\n",
    "import matplotlib.pyplot as plt\n",
    "import torch.nn.functional as F\n",
    "from tqdm.notebook import tqdm\n",
    "import utils"
   ]
  },
  {
   "cell_type": "code",
   "execution_count": 2,
   "id": "2a0a9a52",
   "metadata": {},
   "outputs": [],
   "source": [
    "train_augs = T.Compose([\n",
    "    T.RandomHorizontalFlip(p=0.5),\n",
    "    T.RandomVerticalFlip(p=0.5),\n",
    "    T.ToTensor(), #h,w,c -> c,h,w\n",
    "    T.Normalize(mean=0.5,std=0.5)\n",
    "])\n",
    "\n",
    "valid_augs = T.Compose([\n",
    "    T.ToTensor(),\n",
    "    T.Normalize(mean=0.5,std=0.5)\n",
    "])\n"
   ]
  },
  {
   "cell_type": "code",
   "execution_count": 6,
   "id": "390a566d",
   "metadata": {},
   "outputs": [],
   "source": [
    "trainset = datasets.MNIST('./', download=True, train=True, transform=train_augs)\n",
    "testset=datasets.MNIST('./', download=True, train=False,transform=valid_augs)\n"
   ]
  },
  {
   "cell_type": "code",
   "execution_count": 7,
   "id": "9ed33e83",
   "metadata": {},
   "outputs": [],
   "source": [
    "trainset, validset = torch.utils.data.random_split(trainset,[50000,10000])"
   ]
  },
  {
   "cell_type": "code",
   "execution_count": 12,
   "id": "fca02151",
   "metadata": {},
   "outputs": [
    {
     "name": "stdout",
     "output_type": "stream",
     "text": [
      "test set :10000\n",
      "train set :50000\n",
      "valid set :10000\n"
     ]
    }
   ],
   "source": [
    "print(f\"test set :{len(testset)}\")\n",
    "print(f\"train set :{len(trainset)}\")\n",
    "print(f\"valid set :{len(validset)}\")"
   ]
  },
  {
   "cell_type": "code",
   "execution_count": 17,
   "id": "0175f846",
   "metadata": {},
   "outputs": [],
   "source": [
    "import matplotlib.pyplot as plt\n"
   ]
  },
  {
   "cell_type": "code",
   "execution_count": 18,
   "id": "9dd025d8",
   "metadata": {},
   "outputs": [
    {
     "name": "stdout",
     "output_type": "stream",
     "text": [
      "shape of image: torch.Size([1, 28, 28])\n",
      "permuting shape: torch.Size([28, 28, 1])\n"
     ]
    },
    {
     "data": {
      "text/plain": [
       "Text(0.5, 1.0, 'label')"
      ]
     },
     "execution_count": 18,
     "metadata": {},
     "output_type": "execute_result"
    },
    {
     "data": {
      "image/png": "[encoded data removed]",
      "text/plain": [
       "<Figure size 640x480 with 1 Axes>"
      ]
     },
     "metadata": {},
     "output_type": "display_data"
    }
   ],
   "source": [
    "idx=1\n",
    "image,label = trainset[idx]\n",
    "print(f'shape of image: {image.shape}')\n",
    "#for vis we need h,w,c so we'll permute\n",
    "print(f'permuting shape: {image.permute(1,2,0).shape}')\n",
    "plt.imshow(image.permute(1,2,0),cmap='gray')\n",
    "plt.title('label')"
   ]
  },
  {
   "cell_type": "code",
   "execution_count": 19,
   "id": "71ae4db3",
   "metadata": {},
   "outputs": [],
   "source": [
    "from torch.utils.data import DataLoader"
   ]
  },
  {
   "cell_type": "code",
   "execution_count": 21,
   "id": "11a6fa4f",
   "metadata": {},
   "outputs": [],
   "source": [
    "bs = 64\n",
    "tr_load=DataLoader(trainset,batch_size=bs,shuffle=True)\n",
    "test_load=DataLoader(testset,batch_size=bs)\n",
    "valid_load=DataLoader(validset,batch_size=bs)"
   ]
  },
  {
   "cell_type": "markdown",
   "id": "899a4202",
   "metadata": {},
   "source": []
  },
  {
   "cell_type": "code",
   "execution_count": 23,
   "id": "7afed596",
   "metadata": {},
   "outputs": [
    {
     "name": "stdout",
     "output_type": "stream",
     "text": [
      "Total number of batch in train set : 782\n",
      "test number of batch in train set : 157\n",
      "Total number of batch in valid set : 157\n"
     ]
    }
   ],
   "source": [
    "print(f'Total number of batch in train set : {len(tr_load)}')\n",
    "print(f'test number of batch in train set : {len(test_load)}')\n",
    "print(f'Total number of batch in valid set : {len(valid_load)}')\n"
   ]
  },
  {
   "cell_type": "code",
   "execution_count": 25,
   "id": "09d36cb3",
   "metadata": {},
   "outputs": [
    {
     "name": "stdout",
     "output_type": "stream",
     "text": [
      "one image batch shape : torch.Size([64, 1, 28, 28])\n",
      "one label batch shape : torch.Size([64])\n"
     ]
    }
   ],
   "source": [
    "for images,labels in tr_load:\n",
    "    print(f'one image batch shape : {images.shape}')\n",
    "    print(f'one label batch shape : {labels.shape}')\n",
    "    break;"
   ]
  },
  {
   "cell_type": "code",
   "execution_count": 26,
   "id": "f5af23e3",
   "metadata": {},
   "outputs": [],
   "source": [
    "#cross entropy loss pytorch takes input as logits, so in model.py we're not applying softmax"
   ]
  },
  {
   "cell_type": "code",
   "execution_count": 29,
   "id": "851789f4",
   "metadata": {},
   "outputs": [
    {
     "data": {
      "text/plain": [
       "DigitModel(\n",
       "  (cnn_block): Sequential(\n",
       "    (0): Conv2d(1, 8, kernel_size=(3, 3), stride=(1, 1), padding=(1, 1))\n",
       "    (1): BatchNorm2d(8, eps=1e-05, momentum=0.1, affine=True, track_running_stats=True)\n",
       "    (2): ReLU()\n",
       "    (3): Conv2d(8, 16, kernel_size=(3, 3), stride=(1, 1), padding=(1, 1))\n",
       "    (4): BatchNorm2d(16, eps=1e-05, momentum=0.1, affine=True, track_running_stats=True)\n",
       "    (5): ReLU()\n",
       "    (6): MaxPool2d(kernel_size=(2, 2), stride=(2, 2), padding=0, dilation=1, ceil_mode=False)\n",
       "    (7): Conv2d(16, 32, kernel_size=(3, 3), stride=(1, 1), padding=(1, 1))\n",
       "    (8): BatchNorm2d(32, eps=1e-05, momentum=0.1, affine=True, track_running_stats=True)\n",
       "    (9): ReLU()\n",
       "    (10): MaxPool2d(kernel_size=(2, 2), stride=(2, 2), padding=0, dilation=1, ceil_mode=False)\n",
       "  )\n",
       "  (linear_block): Sequential(\n",
       "    (0): Flatten(start_dim=1, end_dim=-1)\n",
       "    (1): Linear(in_features=1568, out_features=512, bias=True)\n",
       "    (2): ReLU()\n",
       "    (3): Dropout(p=0.5, inplace=False)\n",
       "    (4): Linear(in_features=512, out_features=256, bias=True)\n",
       "    (5): ReLU()\n",
       "    (6): Dropout(p=0.5, inplace=False)\n",
       "    (7): Linear(in_features=256, out_features=10, bias=True)\n",
       "  )\n",
       ")"
      ]
     },
     "execution_count": 29,
     "metadata": {},
     "output_type": "execute_result"
    }
   ],
   "source": [
    "from models import DigitModel\n",
    "\n",
    "model=DigitModel()\n",
    "model.to('cpu')"
   ]
  },
  {
   "cell_type": "code",
   "execution_count": 56,
   "id": "50ff0009",
   "metadata": {},
   "outputs": [],
   "source": [
    "def train_fn(model,dataloader,criterion,optimizer):\n",
    "    model.train()\n",
    "    tot_acc=0.0\n",
    "    tot_loss=0.0\n",
    "    \n",
    "    for images,labels in tqdm(dataloader):\n",
    "        \n",
    "        images=images.to('cpu')\n",
    "        labels=labels.to('cpu')\n",
    "        \n",
    "        \n",
    "        optimizer.zero_grad()\n",
    "        logits=model(images)\n",
    "        loss=criterion(logits,labels)\n",
    "        loss.backward()\n",
    "        optimizer.step()\n",
    "        \n",
    "        tot_acc+=utils.multiclass_accuracy(logits,labels)\n",
    "        tot_loss+=loss.item()\n",
    "        \n",
    "    return tot_loss/len(dataloader) , tot_acc/len(dataloader)"
   ]
  },
  {
   "cell_type": "code",
   "execution_count": 57,
   "id": "ec5c0df1",
   "metadata": {},
   "outputs": [],
   "source": [
    "def eval_fn(model,dataloader,criterion):\n",
    "    model.train()\n",
    "    tot_acc=0.0\n",
    "    tot_loss=0.0\n",
    "    \n",
    "    with torch.no_grad():\n",
    "    \n",
    "        for images,labels in tqdm(dataloader):\n",
    "\n",
    "            images=images.to('cpu')\n",
    "            labels=labels.to('cpu')\n",
    "\n",
    "\n",
    "            logits=model(images)\n",
    "            loss=criterion(logits,labels)\n",
    "\n",
    "            tot_acc+=utils.multiclass_accuracy(logits,labels)\n",
    "            tot_loss+=loss.item()\n",
    "        \n",
    "    return tot_loss/len(dataloader) , tot_acc/len(dataloader)"
   ]
  },
  {
   "cell_type": "code",
   "execution_count": 58,
   "id": "028eece3",
   "metadata": {},
   "outputs": [],
   "source": [
    "criterion = torch.nn.CrossEntropyLoss()\n",
    "optimizer=torch.optim.Adam(model.parameters(),lr=0.001)"
   ]
  },
  {
   "cell_type": "code",
   "execution_count": 59,
   "id": "0d30919b",
   "metadata": {},
   "outputs": [
    {
     "data": {
      "application/vnd.jupyter.widget-view+json": {
       "model_id": "45dfa4080f024782920c9b4a6100c7c0",
       "version_major": 2,
       "version_minor": 0
      },
      "text/plain": [
       "  0%|          | 0/782 [00:00<?, ?it/s]"
      ]
     },
     "metadata": {},
     "output_type": "display_data"
    },
    {
     "data": {
      "application/vnd.jupyter.widget-view+json": {
       "model_id": "e8eaeda4ea194166957a216063c29323",
       "version_major": 2,
       "version_minor": 0
      },
      "text/plain": [
       "  0%|          | 0/782 [00:00<?, ?it/s]"
      ]
     },
     "metadata": {},
     "output_type": "display_data"
    },
    {
     "name": "stdout",
     "output_type": "stream",
     "text": [
      "epoch 1 Train Loss : 0.20918469511382187 train acc : 0.9384790658950806\n",
      "epoch 1 valid Loss : 0.18535057614173958 valid acc : 0.9449528455734253\n",
      "saved model !\n"
     ]
    },
    {
     "data": {
      "application/vnd.jupyter.widget-view+json": {
       "model_id": "40c32e75e9d5496aa318a567fee638ac",
       "version_major": 2,
       "version_minor": 0
      },
      "text/plain": [
       "  0%|          | 0/782 [00:00<?, ?it/s]"
      ]
     },
     "metadata": {},
     "output_type": "display_data"
    },
    {
     "data": {
      "application/vnd.jupyter.widget-view+json": {
       "model_id": "d00e774f69284491a65215374d1ff89c",
       "version_major": 2,
       "version_minor": 0
      },
      "text/plain": [
       "  0%|          | 0/782 [00:00<?, ?it/s]"
      ]
     },
     "metadata": {},
     "output_type": "display_data"
    },
    {
     "name": "stdout",
     "output_type": "stream",
     "text": [
      "epoch 2 Train Loss : 0.18039826681013302 train acc : 0.9459918737411499\n",
      "epoch 2 valid Loss : 0.15952611697451843 valid acc : 0.9517862796783447\n",
      "saved model !\n"
     ]
    },
    {
     "data": {
      "application/vnd.jupyter.widget-view+json": {
       "model_id": "8d61039eb47c45ecbc2865195bd54abc",
       "version_major": 2,
       "version_minor": 0
      },
      "text/plain": [
       "  0%|          | 0/782 [00:00<?, ?it/s]"
      ]
     },
     "metadata": {},
     "output_type": "display_data"
    },
    {
     "data": {
      "application/vnd.jupyter.widget-view+json": {
       "model_id": "f5189b549d3648e58e715a6d79f9b12b",
       "version_major": 2,
       "version_minor": 0
      },
      "text/plain": [
       "  0%|          | 0/782 [00:00<?, ?it/s]"
      ]
     },
     "metadata": {},
     "output_type": "display_data"
    },
    {
     "name": "stdout",
     "output_type": "stream",
     "text": [
      "epoch 3 Train Loss : 0.15981998598998617 train acc : 0.9528452754020691\n",
      "epoch 3 valid Loss : 0.1503264620552397 valid acc : 0.9550431370735168\n",
      "saved model !\n"
     ]
    },
    {
     "data": {
      "application/vnd.jupyter.widget-view+json": {
       "model_id": "d0a2dcfb1f9243718c2f300d5c1110a4",
       "version_major": 2,
       "version_minor": 0
      },
      "text/plain": [
       "  0%|          | 0/782 [00:00<?, ?it/s]"
      ]
     },
     "metadata": {},
     "output_type": "display_data"
    },
    {
     "data": {
      "application/vnd.jupyter.widget-view+json": {
       "model_id": "75d75622014e4531b086f755ef9c237f",
       "version_major": 2,
       "version_minor": 0
      },
      "text/plain": [
       "  0%|          | 0/782 [00:00<?, ?it/s]"
      ]
     },
     "metadata": {},
     "output_type": "display_data"
    },
    {
     "name": "stdout",
     "output_type": "stream",
     "text": [
      "epoch 4 Train Loss : 0.15358056778045337 train acc : 0.9550631642341614\n",
      "epoch 4 valid Loss : 0.13316265867589533 valid acc : 0.9610773921012878\n",
      "saved model !\n"
     ]
    },
    {
     "data": {
      "application/vnd.jupyter.widget-view+json": {
       "model_id": "8bbc225dbb124f548cd6237200b58178",
       "version_major": 2,
       "version_minor": 0
      },
      "text/plain": [
       "  0%|          | 0/782 [00:00<?, ?it/s]"
      ]
     },
     "metadata": {},
     "output_type": "display_data"
    },
    {
     "data": {
      "application/vnd.jupyter.widget-view+json": {
       "model_id": "ebd4e1afd698427892d8ea2eede60ca0",
       "version_major": 2,
       "version_minor": 0
      },
      "text/plain": [
       "  0%|          | 0/782 [00:00<?, ?it/s]"
      ]
     },
     "metadata": {},
     "output_type": "display_data"
    },
    {
     "name": "stdout",
     "output_type": "stream",
     "text": [
      "epoch 5 Train Loss : 0.14368098130201934 train acc : 0.9575807452201843\n",
      "epoch 5 valid Loss : 0.13353902166423476 valid acc : 0.9608975648880005\n"
     ]
    },
    {
     "data": {
      "application/vnd.jupyter.widget-view+json": {
       "model_id": "aba63e8a447045f39d6b36cd50fec4d6",
       "version_major": 2,
       "version_minor": 0
      },
      "text/plain": [
       "  0%|          | 0/782 [00:00<?, ?it/s]"
      ]
     },
     "metadata": {},
     "output_type": "display_data"
    },
    {
     "data": {
      "application/vnd.jupyter.widget-view+json": {
       "model_id": "8d0ce94ef32745db9a3ca7739ed6fe29",
       "version_major": 2,
       "version_minor": 0
      },
      "text/plain": [
       "  0%|          | 0/782 [00:00<?, ?it/s]"
      ]
     },
     "metadata": {},
     "output_type": "display_data"
    },
    {
     "name": "stdout",
     "output_type": "stream",
     "text": [
      "epoch 6 Train Loss : 0.12985516174355774 train acc : 0.9612371921539307\n",
      "epoch 6 valid Loss : 0.1280203178713141 valid acc : 0.96263587474823\n",
      "saved model !\n"
     ]
    },
    {
     "data": {
      "application/vnd.jupyter.widget-view+json": {
       "model_id": "025ae8af1ecd4e2b92b6d6a485de995b",
       "version_major": 2,
       "version_minor": 0
      },
      "text/plain": [
       "  0%|          | 0/782 [00:00<?, ?it/s]"
      ]
     },
     "metadata": {},
     "output_type": "display_data"
    },
    {
     "data": {
      "application/vnd.jupyter.widget-view+json": {
       "model_id": "f12dcd91c6c046c0be9c4cd5b4fdc25f",
       "version_major": 2,
       "version_minor": 0
      },
      "text/plain": [
       "  0%|          | 0/782 [00:00<?, ?it/s]"
      ]
     },
     "metadata": {},
     "output_type": "display_data"
    },
    {
     "name": "stdout",
     "output_type": "stream",
     "text": [
      "epoch 7 Train Loss : 0.12584927195952275 train acc : 0.962695837020874\n",
      "epoch 7 valid Loss : 0.12211192102121461 valid acc : 0.9630154967308044\n",
      "saved model !\n"
     ]
    },
    {
     "data": {
      "application/vnd.jupyter.widget-view+json": {
       "model_id": "f24f43cb06d048938c417fe828daf116",
       "version_major": 2,
       "version_minor": 0
      },
      "text/plain": [
       "  0%|          | 0/782 [00:00<?, ?it/s]"
      ]
     },
     "metadata": {},
     "output_type": "display_data"
    },
    {
     "data": {
      "application/vnd.jupyter.widget-view+json": {
       "model_id": "9f837a9dba3e4b6e88117958bfad5d6f",
       "version_major": 2,
       "version_minor": 0
      },
      "text/plain": [
       "  0%|          | 0/782 [00:00<?, ?it/s]"
      ]
     },
     "metadata": {},
     "output_type": "display_data"
    },
    {
     "name": "stdout",
     "output_type": "stream",
     "text": [
      "epoch 8 Train Loss : 0.11875926966414503 train acc : 0.9647738337516785\n",
      "epoch 8 valid Loss : 0.11113900781544807 valid acc : 0.9662124514579773\n",
      "saved model !\n"
     ]
    },
    {
     "data": {
      "application/vnd.jupyter.widget-view+json": {
       "model_id": "a4fcfb4f53944c40a27a7466957789e7",
       "version_major": 2,
       "version_minor": 0
      },
      "text/plain": [
       "  0%|          | 0/782 [00:00<?, ?it/s]"
      ]
     },
     "metadata": {},
     "output_type": "display_data"
    },
    {
     "data": {
      "application/vnd.jupyter.widget-view+json": {
       "model_id": "4fb7ef7131a042b68656ea3f0e04edf5",
       "version_major": 2,
       "version_minor": 0
      },
      "text/plain": [
       "  0%|          | 0/782 [00:00<?, ?it/s]"
      ]
     },
     "metadata": {},
     "output_type": "display_data"
    },
    {
     "name": "stdout",
     "output_type": "stream",
     "text": [
      "epoch 9 Train Loss : 0.11725407562580654 train acc : 0.9654931426048279\n",
      "epoch 9 valid Loss : 0.10631238439988555 valid acc : 0.9683504104614258\n",
      "saved model !\n"
     ]
    },
    {
     "data": {
      "application/vnd.jupyter.widget-view+json": {
       "model_id": "767d92a72d8c468f92419e6c1ba694be",
       "version_major": 2,
       "version_minor": 0
      },
      "text/plain": [
       "  0%|          | 0/782 [00:00<?, ?it/s]"
      ]
     },
     "metadata": {},
     "output_type": "display_data"
    },
    {
     "data": {
      "application/vnd.jupyter.widget-view+json": {
       "model_id": "3627a0f1b54244708e37e66f6672a9af",
       "version_major": 2,
       "version_minor": 0
      },
      "text/plain": [
       "  0%|          | 0/782 [00:00<?, ?it/s]"
      ]
     },
     "metadata": {},
     "output_type": "display_data"
    },
    {
     "name": "stdout",
     "output_type": "stream",
     "text": [
      "epoch 10 Train Loss : 0.11517289219140682 train acc : 0.9666520357131958\n",
      "epoch 10 valid Loss : 0.0976763750206741 valid acc : 0.9699288606643677\n",
      "saved model !\n"
     ]
    }
   ],
   "source": [
    "best_valid_loss=np.Inf\n",
    "\n",
    "for i in range(10):\n",
    "    train_loss,train_acc = train_fn(model,tr_load,criterion,optimizer)\n",
    "    valid_loss,valid_acc = eval_fn(model,tr_load,criterion)\n",
    "    \n",
    "    print(f\"epoch {i+1} Train Loss : {train_loss} train acc : {train_acc}\")\n",
    "    print(f\"epoch {i+1} valid Loss : {valid_loss} valid acc : {valid_acc}\")\n",
    "    \n",
    "    if valid_loss<best_valid_loss:\n",
    "        torch.save(model.state_dict(), 'best-wt.pt')\n",
    "        print('saved model !')\n",
    "        best_valid_loss = valid_loss"
   ]
  },
  {
   "cell_type": "code",
   "execution_count": 67,
   "id": "d31d6aba",
   "metadata": {},
   "outputs": [
    {
     "data": {
      "image/png": "[encoded data removed]",
      "text/plain": [
       "<Figure size 600x900 with 2 Axes>"
      ]
     },
     "metadata": {},
     "output_type": "display_data"
    }
   ],
   "source": [
    "image,label = testset[77]\n",
    "\n",
    "weights = torch.load('best-wt.pt')\n",
    "model.load_state_dict(weights)\n",
    "model.eval()\n",
    "\n",
    "with torch.no_grad():\n",
    "    logits=model(image.unsqueeze(0)) #bcoz model takes in the format of batch_size,c,h,w\n",
    "    ps=torch.nn.Softmax(dim=1)(logits)[0]\n",
    "    utils.view_classify(image,ps)"
   ]
  }
 ],
 "metadata": {
  "kernelspec": {
   "display_name": "Python 3 (ipykernel)",
   "language": "python",
   "name": "python3"
  },
  "language_info": {
   "codemirror_mode": {
    "name": "ipython",
    "version": 3
   },
   "file_extension": ".py",
   "mimetype": "text/x-python",
   "name": "python",
   "nbconvert_exporter": "python",
   "pygments_lexer": "ipython3",
   "version": "3.11.4"
  }
 },
 "nbformat": 4,
 "nbformat_minor": 5
}
